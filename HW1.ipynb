{
  "nbformat": 4,
  "nbformat_minor": 0,
  "metadata": {
    "colab": {
      "name": "Untitled0.ipynb",
      "provenance": [],
      "authorship_tag": "ABX9TyMfPXcZde6oZ4G1bbJKSVGR",
      "include_colab_link": true
    },
    "kernelspec": {
      "name": "python3",
      "display_name": "Python 3"
    },
    "language_info": {
      "name": "python"
    }
  },
  "cells": [
    {
      "cell_type": "markdown",
      "metadata": {
        "id": "view-in-github",
        "colab_type": "text"
      },
      "source": [
        "<a href=\"https://colab.research.google.com/github/IvanStashkov91/Statistic/blob/main/HW1.ipynb\" target=\"_parent\"><img src=\"https://colab.research.google.com/assets/colab-badge.svg\" alt=\"Open In Colab\"/></a>"
      ]
    },
    {
      "cell_type": "code",
      "metadata": {
        "id": "Z7eSYMEMBFfV"
      },
      "source": [
        "from math import factorial\n",
        "\n",
        "def combination(n, k):\n",
        "    return int(factorial(n) / (factorial(k) * factorial(n - k)))"
      ],
      "execution_count": 46,
      "outputs": []
    },
    {
      "cell_type": "code",
      "metadata": {
        "id": "44dt5jAxJpgT"
      },
      "source": [
        "# Задача 1\n",
        "# Из колоды в 52 карты извлекаются случайным образом 4 карты. \n",
        "# a) Найти вероятность того, что все карты – крести. \n",
        "P1 = 13/52 * 12/51 * 11/50 * 10/49 * 100\n",
        "# б) Найти вероятность, что среди 4-х карт окажется хотя бы один туз.\n",
        "С = combination(52, 4) # число возможных сочетаний 4 карт из всех 52 карт\n",
        "С1 = combination(4, 1) * combination(48, 3) # число возможных сочетаний, когда есть хотя бы 1 туз\n",
        "С2 = combination(4, 2) * combination(48, 2) # число возможных сочетаний, когда есть хотя бы 2 туза\n",
        "С3 = combination(4, 3) * combination(48, 1) # число возможных сочетаний, когда есть хотя бы 3 туза\n",
        "С4 = 1 # число возможных сочетаний, когда есть хотя бы 4 туза\n",
        "P2 = (С1 + С2 + С3 + С4) / С * 100 "
      ],
      "execution_count": 47,
      "outputs": []
    },
    {
      "cell_type": "code",
      "metadata": {
        "colab": {
          "base_uri": "https://localhost:8080/"
        },
        "id": "BxOa02CQBN6W",
        "outputId": "5b097b13-2675-48fb-ef47-bac96e9a3114"
      },
      "source": [
        "print(f'Вероятность того, что вcе карты – крести = {P1:.2f} %')"
      ],
      "execution_count": 48,
      "outputs": [
        {
          "output_type": "stream",
          "text": [
            "Вероятность того, что вcе карты – крести = 0.26 %\n"
          ],
          "name": "stdout"
        }
      ]
    },
    {
      "cell_type": "code",
      "metadata": {
        "colab": {
          "base_uri": "https://localhost:8080/"
        },
        "id": "Dc0NRSOQCXB_",
        "outputId": "590d7a31-c717-4788-f8b9-ec309e020294"
      },
      "source": [
        "  print(f'Вероятность, что среди 4-х карт окажется хотя бы один туз = {P2:.2f} %')"
      ],
      "execution_count": 49,
      "outputs": [
        {
          "output_type": "stream",
          "text": [
            "Вероятность, что среди 4-х карт окажется хотя бы один туз = 28.13 %\n"
          ],
          "name": "stdout"
        }
      ]
    },
    {
      "cell_type": "code",
      "metadata": {
        "id": "8w5U2WyXQoTo"
      },
      "source": [
        "# Задача 2\n",
        "# На входной двери подъезда установлен кодовый замок, содержащий десять кнопок с цифрами от 0 до 9. \n",
        "# Код содержит три цифры, которые нужно нажать одновременно. \n",
        "# Какова вероятность того, что человек, не знающий код, откроет дверь с первой попытки?\n",
        "C = combination(10, 3) # число возможных сочетаний из 3-х цифр\n",
        "P = 1 / C * 100 # так как всего одна попытка"
      ],
      "execution_count": 50,
      "outputs": []
    },
    {
      "cell_type": "code",
      "metadata": {
        "colab": {
          "base_uri": "https://localhost:8080/"
        },
        "id": "3xBiJlMLRDcZ",
        "outputId": "66d2b9a4-c672-405c-dbe4-cf9efa2c3a4f"
      },
      "source": [
        "print (f'Вероятность того, что человек, не знающий код, откроет дверь с первой попытки = {P:.2f} %')"
      ],
      "execution_count": 51,
      "outputs": [
        {
          "output_type": "stream",
          "text": [
            "Вероятность того, что человек, не знающий код, откроет дверь с первой попытки = 0.83 %\n"
          ],
          "name": "stdout"
        }
      ]
    },
    {
      "cell_type": "code",
      "metadata": {
        "id": "Aa9ahmq_UF_u"
      },
      "source": [
        "# Задача 3\n",
        "# В ящике имеется 15 деталей, из которых 9 окрашены. \n",
        "# Рабочий случайным образом извлекает 3 детали. \n",
        "# Какова вероятность того, что все извлеченные детали окрашены?\n",
        "P = 9/15 * 8/14 * 7/13 * 100"
      ],
      "execution_count": 52,
      "outputs": []
    },
    {
      "cell_type": "code",
      "metadata": {
        "colab": {
          "base_uri": "https://localhost:8080/"
        },
        "id": "GoimIHbBVIlP",
        "outputId": "c7128ffe-34ec-4a3f-ed7f-d4551df78d38"
      },
      "source": [
        "print (f'Вероятность того, что все извлеченные детали окрашены = {P:.2f} %')"
      ],
      "execution_count": 53,
      "outputs": [
        {
          "output_type": "stream",
          "text": [
            "Вероятность того, что все извлеченные детали окрашены = 18.46 %\n"
          ],
          "name": "stdout"
        }
      ]
    },
    {
      "cell_type": "code",
      "metadata": {
        "id": "ac0v-ejSVpnv"
      },
      "source": [
        "# Задание 4\n",
        "# В лотерее 100 билетов. Из них 2 выигрышных. \n",
        "# Какова вероятность того, что 2 приобретенных билета окажутся выигрышными?\n",
        "P = 2/100 * 1/99 * 100"
      ],
      "execution_count": 54,
      "outputs": []
    },
    {
      "cell_type": "code",
      "metadata": {
        "colab": {
          "base_uri": "https://localhost:8080/"
        },
        "id": "zKbpZPocWQt0",
        "outputId": "1adc8e00-6836-4350-915d-ff4b63b41a2c"
      },
      "source": [
        "print (f'Вероятность того, что 2 приобретенных билета окажутся выигрышными = {P:.2f} %')"
      ],
      "execution_count": 55,
      "outputs": [
        {
          "output_type": "stream",
          "text": [
            "Вероятность того, что 2 приобретенных билета окажутся выигрышными = 0.02 %\n"
          ],
          "name": "stdout"
        }
      ]
    },
    {
      "cell_type": "code",
      "metadata": {
        "id": "qqOy7vAwWU51"
      },
      "source": [
        ""
      ],
      "execution_count": 55,
      "outputs": []
    }
  ]
}