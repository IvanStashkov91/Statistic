{
  "nbformat": 4,
  "nbformat_minor": 0,
  "metadata": {
    "colab": {
      "name": "Untitled1.ipynb",
      "provenance": [],
      "authorship_tag": "ABX9TyMrfuLJcqK+byi9+5n8s1eQ",
      "include_colab_link": true
    },
    "kernelspec": {
      "name": "python3",
      "display_name": "Python 3"
    },
    "language_info": {
      "name": "python"
    }
  },
  "cells": [
    {
      "cell_type": "markdown",
      "metadata": {
        "id": "view-in-github",
        "colab_type": "text"
      },
      "source": [
        "<a href=\"https://colab.research.google.com/github/IvanStashkov91/Statistic/blob/main/HW2.ipynb\" target=\"_parent\"><img src=\"https://colab.research.google.com/assets/colab-badge.svg\" alt=\"Open In Colab\"/></a>"
      ]
    },
    {
      "cell_type": "markdown",
      "metadata": {
        "id": "4Y18b2DpH9tl"
      },
      "source": [
        "**Задание 1.** Вероятность того, что стрелок попадет в мишень, выстрелив один раз, равна 0.8. Стрелок выстрелил 100 раз. Найдите вероятность того, что стрелок попадет в цель ровно 85 раз."
      ]
    },
    {
      "cell_type": "code",
      "metadata": {
        "colab": {
          "base_uri": "https://localhost:8080/"
        },
        "id": "JxsCYwlyH5wJ",
        "outputId": "70ee81c9-d28d-43bf-81b1-4c585f4b0a59"
      },
      "source": [
        "from math import factorial\n",
        "import numpy as np\n",
        "\n",
        "def binomial(p, n, k):\n",
        "    return combination(n, k) * pow(p, k) * pow((1 - p), (n - k)) * 100\n",
        "\n",
        "def combination(n, k):\n",
        "    return int(factorial(n) / (factorial(k) * factorial(n - k)))\n",
        "\n",
        "n = 100\n",
        "k = 85\n",
        "p = 0.8\n",
        "P = binomial(p, n, k)\n",
        "print(f'Вероятность того, что стрелок попадет в цель ровно 85 раз = {P:.2f} %')"
      ],
      "execution_count": 21,
      "outputs": [
        {
          "output_type": "stream",
          "text": [
            "Вероятность того, что стрелок попадет в цель ровно 85 раз = 4.81 %\n"
          ],
          "name": "stdout"
        }
      ]
    },
    {
      "cell_type": "markdown",
      "metadata": {
        "id": "-xljSqmNIGtN"
      },
      "source": [
        "**Задание 2.** Вероятность того, что лампочка перегорит в течение первого дня эксплуатации, равна 0.0004. В жилом комплексе после ремонта в один день включили 5000 новых лампочек. Какова вероятность, что ни одна из них не перегорит в первый день? Какова вероятность, что перегорят ровно две?"
      ]
    },
    {
      "cell_type": "code",
      "metadata": {
        "colab": {
          "base_uri": "https://localhost:8080/"
        },
        "id": "pVL5Uw9FIKG-",
        "outputId": "022c3d92-bfe3-4c51-ba6d-9b6bacdd59d6"
      },
      "source": [
        "n = 5000\n",
        "m1 = 0 # ни одна из ламп не перегорит\n",
        "m2 = 2 # перегорит две лампы\n",
        "p = 0.0004\n",
        "lambda_ = n * p\n",
        "\n",
        "P1 = (lambda_**m1 / np.math.factorial(m1)) * np.exp(-lambda_) * 100\n",
        "P2 = (lambda_**m2 / np.math.factorial(m2)) * np.exp(-lambda_) * 100\n",
        "print(f'Вероятность, что ни одна из них не перегорит в первый день = {P1:.2f} %')\n",
        "print(f'Вероятность, что перегорят ровно две лампы в первый день = {P2:.2f} %')"
      ],
      "execution_count": 22,
      "outputs": [
        {
          "output_type": "stream",
          "text": [
            "Вероятность, что ни одна из них не перегорит в первый день = 13.53 %\n",
            "Вероятность, что перегорят ровно две лампы в первый день = 27.07 %\n"
          ],
          "name": "stdout"
        }
      ]
    },
    {
      "cell_type": "markdown",
      "metadata": {
        "id": "71Y0HYeEISOa"
      },
      "source": [
        "**Задание 3.** Монету подбросили 144 раза. Какова вероятность, что орел выпадет ровно 70 раз?"
      ]
    },
    {
      "cell_type": "code",
      "metadata": {
        "colab": {
          "base_uri": "https://localhost:8080/"
        },
        "id": "E-7R-09DIZWd",
        "outputId": "c8dfeba1-7065-421f-9ffb-606fc60a5be8"
      },
      "source": [
        "n = 144\n",
        "k = 70\n",
        "p = 0.5\n",
        "P = binomial(p, n, k)\n",
        "print(f'Вероятность, что орел выпадет ровно 70 раз при 144 подбрасываний = {P:.2f} %')"
      ],
      "execution_count": 23,
      "outputs": [
        {
          "output_type": "stream",
          "text": [
            "Вероятность, что орел выпадет ровно 70 раз при 144 подбрасываний = 6.28 %\n"
          ],
          "name": "stdout"
        }
      ]
    },
    {
      "cell_type": "markdown",
      "metadata": {
        "id": "0eleIK_WIYAW"
      },
      "source": [
        "**Задание 4.** В первом ящике находится 10 мячей, из которых 7 - белые. Во втором ящике - 11 мячей, из которых 9 белых. Из каждого ящика вытаскивают случайным образом по два мяча. Какова вероятность того, что все мячи белые? Какова вероятность того, что ровно два мяча белые? Какова вероятность того, что хотя бы один мяч белый?"
      ]
    },
    {
      "cell_type": "code",
      "metadata": {
        "colab": {
          "base_uri": "https://localhost:8080/"
        },
        "id": "cCwxoOraIfZr",
        "outputId": "0b96e292-8a58-462f-f05e-d7fceef9513a"
      },
      "source": [
        "#1\n",
        "P = 7/10 * 6/9 * 9/11 * 8/10 * 100\n",
        "print(f'Вероятность того, что все мячи белые = {P:.2f} %')\n",
        "\n",
        "#2\n",
        "p1 = (combination(7, 2) / combination(10, 2)) * (combination(2, 2) / combination(11, 2)) # из первой корзины вытащили 2 белых мяча, из второй 2 черных\n",
        "p2 = (combination(3, 2) / combination(10, 2)) * (combination(9, 2) / combination(11, 2)) # из первой корзины вытащили 2 черных мяча, из второй 2 белых\n",
        "p3 = combination(3, 1) * combination(7, 1) / combination(10, 2) # из первой корзины вытащили белый и черный мячи\n",
        "p4 = combination(2, 1) * combination(9, 1) / combination(11, 2) # из второй корзины вытащили белый и черный мячи\n",
        "P1 = (p1 + p2 + p3*p4) * 100 # ровно два мяча белые\n",
        "print(f'Вероятность того, что ровно два мяча белые = {P1:.2f} %')\n",
        "\n",
        "#3\n",
        "P3 = (1 - (combination(3, 2) / combination(10, 2)) * (combination(2, 2) / combination(11, 2))) * 100\n",
        "print(f'Вероятность того, что хотя бы один мяч белый = {P3:.2f} %')"
      ],
      "execution_count": 24,
      "outputs": [
        {
          "output_type": "stream",
          "text": [
            "Вероятность того, что все мячи белые = 30.55 %\n",
            "Вероятность того, что ровно два мяча белые = 20.48 %\n",
            "Вероятность того, что хотя бы один мяч белый = 99.88 %\n"
          ],
          "name": "stdout"
        }
      ]
    },
    {
      "cell_type": "code",
      "metadata": {
        "id": "gntmO7k9Pud4"
      },
      "source": [
        ""
      ],
      "execution_count": 24,
      "outputs": []
    }
  ]
}